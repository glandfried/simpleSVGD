{
 "cells": [
  {
   "cell_type": "code",
   "execution_count": 1,
   "id": "bdf3a8dd",
   "metadata": {},
   "outputs": [],
   "source": [
    "import numpy as np\n",
    "import simpleSVGD\n",
    "import matplotlib.pyplot as plt"
   ]
  },
  {
   "cell_type": "code",
   "execution_count": 2,
   "id": "e9a71a8f",
   "metadata": {},
   "outputs": [],
   "source": [
    "class Laplace_model:\n",
    "    def __init__(self):\n",
    "        pass\n",
    "\n",
    "    def dlnprob(self, m):\n",
    "        return -np.sign(m)"
   ]
  },
  {
   "cell_type": "code",
   "execution_count": 4,
   "id": "bf6126cd",
   "metadata": {},
   "outputs": [],
   "source": [
    "model = Laplace_model()\n",
    "\n",
    "x0 = np.random.normal(0, 4, [1000, 2])\n",
    "theta = simpleSVGD.update(x0, model.dlnprob, n_iter=100, stepsize=0.1)"
   ]
  },
  {
   "cell_type": "code",
   "execution_count": 5,
   "id": "5ac5e7d1",
   "metadata": {},
   "outputs": [
    {
     "data": {
      "image/png": "[encoded data removed]",
      "text/plain": [
       "<Figure size 1152x648 with 2 Axes>"
      ]
     },
     "metadata": {
      "needs_background": "light"
     },
     "output_type": "display_data"
    }
   ],
   "source": [
    "plt.figure(figsize=(16, 9))\n",
    "plt.subplot(121)\n",
    "_ = plt.hist2d(x0[:, 0], x0[:, 1], bins=30, cmap=plt.get_cmap(\"Greys\"))\n",
    "plt.gca().set_aspect(1)\n",
    "plt.subplot(122)\n",
    "_ = plt.hist2d(theta[:, 0], theta[:, 1], bins=30, cmap=plt.get_cmap(\"Greys\"))\n",
    "plt.gca().set_aspect(1)"
   ]
  },
  {
   "cell_type": "code",
   "execution_count": 6,
   "id": "6f1dd42d",
   "metadata": {},
   "outputs": [
    {
     "data": {
      "text/plain": [
       "array([[1.82684179, 0.04151995],\n",
       "       [0.04151995, 1.82158769]])"
      ]
     },
     "execution_count": 6,
     "metadata": {},
     "output_type": "execute_result"
    }
   ],
   "source": [
    "np.cov(theta.T)"
   ]
  },
  {
   "cell_type": "code",
   "execution_count": 7,
   "id": "d9d58543",
   "metadata": {},
   "outputs": [
    {
     "data": {
      "text/plain": [
       "(1000, 2)"
      ]
     },
     "execution_count": 7,
     "metadata": {},
     "output_type": "execute_result"
    }
   ],
   "source": [
    "theta.shape"
   ]
  },
  {
   "cell_type": "code",
   "execution_count": 8,
   "id": "6d1009f1",
   "metadata": {},
   "outputs": [
    {
     "data": {
      "text/plain": [
       "array([[-1.,  1.],\n",
       "       [-1., -1.],\n",
       "       [-1.,  1.],\n",
       "       ...,\n",
       "       [-1.,  1.],\n",
       "       [ 1.,  1.],\n",
       "       [-1.,  1.]])"
      ]
     },
     "execution_count": 8,
     "metadata": {},
     "output_type": "execute_result"
    }
   ],
   "source": [
    "model.dlnprob(theta)"
   ]
  },
  {
   "cell_type": "code",
   "execution_count": null,
   "id": "dba35150",
   "metadata": {},
   "outputs": [],
   "source": []
  }
 ],
 "metadata": {
  "kernelspec": {
   "display_name": "Python 3 (ipykernel)",
   "language": "python",
   "name": "python3"
  },
  "language_info": {
   "codemirror_mode": {
    "name": "ipython",
    "version": 3
   },
   "file_extension": ".py",
   "mimetype": "text/x-python",
   "name": "python",
   "nbconvert_exporter": "python",
   "pygments_lexer": "ipython3",
   "version": "3.9.7"
  }
 },
 "nbformat": 4,
 "nbformat_minor": 5
}
